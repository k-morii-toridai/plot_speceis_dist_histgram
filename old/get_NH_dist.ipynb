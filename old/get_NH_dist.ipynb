{
 "cells": [
  {
   "cell_type": "markdown",
   "id": "a5d6a4e8-d083-4094-8ac2-a6b647f9d53c",
   "metadata": {
    "tags": []
   },
   "source": [
    "### POSCAR.nnlistをDataFrameとして読み込む"
   ]
  },
  {
   "cell_type": "code",
   "execution_count": 1,
   "id": "a38fd674-d43e-4545-858f-8ccb426856b6",
   "metadata": {
    "tags": []
   },
   "outputs": [],
   "source": [
    "from package_file_conversion.nnlist2df import nnlist2df"
   ]
  },
  {
   "cell_type": "code",
   "execution_count": 4,
   "id": "14aec771-4b57-4c12-a953-3f91c233aa9b",
   "metadata": {
    "tags": []
   },
   "outputs": [],
   "source": [
    "df_nnlist = nnlist2df(nnlist_path='sample_test_files/POSCAR.nnlist')"
   ]
  },
  {
   "cell_type": "code",
   "execution_count": 8,
   "id": "f53c6260-c96e-4f17-a2f6-ba02e37d054f",
   "metadata": {
    "tags": []
   },
   "outputs": [
    {
     "data": {
      "text/html": [
       "<div>\n",
       "<style scoped>\n",
       "    .dataframe tbody tr th:only-of-type {\n",
       "        vertical-align: middle;\n",
       "    }\n",
       "\n",
       "    .dataframe tbody tr th {\n",
       "        vertical-align: top;\n",
       "    }\n",
       "\n",
       "    .dataframe thead th {\n",
       "        text-align: right;\n",
       "    }\n",
       "</style>\n",
       "<table border=\"1\" class=\"dataframe\">\n",
       "  <thead>\n",
       "    <tr style=\"text-align: right;\">\n",
       "      <th></th>\n",
       "      <th>central_atom_id</th>\n",
       "      <th>neighboring_atom_id</th>\n",
       "      <th>rel_distance</th>\n",
       "      <th>rel_x</th>\n",
       "      <th>rel_y</th>\n",
       "      <th>rel_z</th>\n",
       "      <th>unitcell_x</th>\n",
       "      <th>unitcell_y</th>\n",
       "      <th>unitcell_z</th>\n",
       "      <th>central_atom_symbol</th>\n",
       "      <th>neighboring_atom_symbol</th>\n",
       "    </tr>\n",
       "  </thead>\n",
       "  <tbody>\n",
       "    <tr>\n",
       "      <th>0</th>\n",
       "      <td>1</td>\n",
       "      <td>1</td>\n",
       "      <td>0.000000</td>\n",
       "      <td>0.000000</td>\n",
       "      <td>0.000000</td>\n",
       "      <td>0.000000</td>\n",
       "      <td>0</td>\n",
       "      <td>0</td>\n",
       "      <td>0</td>\n",
       "      <td>C</td>\n",
       "      <td>C</td>\n",
       "    </tr>\n",
       "    <tr>\n",
       "      <th>1</th>\n",
       "      <td>1</td>\n",
       "      <td>9</td>\n",
       "      <td>1.282630</td>\n",
       "      <td>0.000000</td>\n",
       "      <td>1.281885</td>\n",
       "      <td>-0.043713</td>\n",
       "      <td>0</td>\n",
       "      <td>0</td>\n",
       "      <td>0</td>\n",
       "      <td>C</td>\n",
       "      <td>O</td>\n",
       "    </tr>\n",
       "    <tr>\n",
       "      <th>2</th>\n",
       "      <td>1</td>\n",
       "      <td>13</td>\n",
       "      <td>1.289100</td>\n",
       "      <td>1.112990</td>\n",
       "      <td>-0.650283</td>\n",
       "      <td>0.012857</td>\n",
       "      <td>0</td>\n",
       "      <td>0</td>\n",
       "      <td>0</td>\n",
       "      <td>C</td>\n",
       "      <td>O</td>\n",
       "    </tr>\n",
       "    <tr>\n",
       "      <th>3</th>\n",
       "      <td>1</td>\n",
       "      <td>16</td>\n",
       "      <td>1.289100</td>\n",
       "      <td>-1.112990</td>\n",
       "      <td>-0.650283</td>\n",
       "      <td>0.012857</td>\n",
       "      <td>0</td>\n",
       "      <td>0</td>\n",
       "      <td>0</td>\n",
       "      <td>C</td>\n",
       "      <td>O</td>\n",
       "    </tr>\n",
       "  </tbody>\n",
       "</table>\n",
       "</div>"
      ],
      "text/plain": [
       "  central_atom_id  ... neighboring_atom_symbol\n",
       "0               1  ...                       C\n",
       "1               1  ...                       O\n",
       "2               1  ...                       O\n",
       "3               1  ...                       O\n",
       "\n",
       "[4 rows x 11 columns]"
      ]
     },
     "execution_count": 8,
     "metadata": {},
     "output_type": "execute_result"
    }
   ],
   "source": [
    "df_nnlist.head(4)"
   ]
  },
  {
   "cell_type": "markdown",
   "id": "9b204de7-8759-4124-ba79-159cbabe96ff",
   "metadata": {},
   "source": [
    "### 原子Cと原子Oの距離を抽出する"
   ]
  },
  {
   "cell_type": "code",
   "execution_count": 20,
   "id": "af974553-47b3-4506-bd12-505f1fdbb7b5",
   "metadata": {
    "tags": []
   },
   "outputs": [
    {
     "data": {
      "text/plain": [
       "Index(['central_atom_id', 'neighboring_atom_id', 'rel_distance', 'rel_x',\n",
       "       'rel_y', 'rel_z', 'unitcell_x', 'unitcell_y', 'unitcell_z',\n",
       "       'central_atom_symbol', 'neighboring_atom_symbol'],\n",
       "      dtype='object')"
      ]
     },
     "execution_count": 20,
     "metadata": {},
     "output_type": "execute_result"
    }
   ],
   "source": [
    "df_nnlist.columns"
   ]
  },
  {
   "cell_type": "markdown",
   "id": "5aab9119-603f-4690-abca-6917746d7614",
   "metadata": {},
   "source": [
    "#### central_atom_symbolカラムが'C', neighboring_atom_symbolカラムが'O'のレコードのみ抽出"
   ]
  },
  {
   "cell_type": "code",
   "execution_count": 25,
   "id": "1ff047f7-18f3-44b9-b878-8d11faa618a4",
   "metadata": {
    "tags": []
   },
   "outputs": [
    {
     "data": {
      "text/html": [
       "<div>\n",
       "<style scoped>\n",
       "    .dataframe tbody tr th:only-of-type {\n",
       "        vertical-align: middle;\n",
       "    }\n",
       "\n",
       "    .dataframe tbody tr th {\n",
       "        vertical-align: top;\n",
       "    }\n",
       "\n",
       "    .dataframe thead th {\n",
       "        text-align: right;\n",
       "    }\n",
       "</style>\n",
       "<table border=\"1\" class=\"dataframe\">\n",
       "  <thead>\n",
       "    <tr style=\"text-align: right;\">\n",
       "      <th></th>\n",
       "      <th>central_atom_id</th>\n",
       "      <th>neighboring_atom_id</th>\n",
       "      <th>rel_distance</th>\n",
       "      <th>rel_x</th>\n",
       "      <th>rel_y</th>\n",
       "      <th>rel_z</th>\n",
       "      <th>unitcell_x</th>\n",
       "      <th>unitcell_y</th>\n",
       "      <th>unitcell_z</th>\n",
       "      <th>central_atom_symbol</th>\n",
       "      <th>neighboring_atom_symbol</th>\n",
       "    </tr>\n",
       "  </thead>\n",
       "  <tbody>\n",
       "    <tr>\n",
       "      <th>1</th>\n",
       "      <td>1</td>\n",
       "      <td>9</td>\n",
       "      <td>1.282630</td>\n",
       "      <td>0.000000</td>\n",
       "      <td>1.281885</td>\n",
       "      <td>-0.043713</td>\n",
       "      <td>0</td>\n",
       "      <td>0</td>\n",
       "      <td>0</td>\n",
       "      <td>C</td>\n",
       "      <td>O</td>\n",
       "    </tr>\n",
       "    <tr>\n",
       "      <th>2</th>\n",
       "      <td>1</td>\n",
       "      <td>13</td>\n",
       "      <td>1.289100</td>\n",
       "      <td>1.112990</td>\n",
       "      <td>-0.650283</td>\n",
       "      <td>0.012857</td>\n",
       "      <td>0</td>\n",
       "      <td>0</td>\n",
       "      <td>0</td>\n",
       "      <td>C</td>\n",
       "      <td>O</td>\n",
       "    </tr>\n",
       "    <tr>\n",
       "      <th>3</th>\n",
       "      <td>1</td>\n",
       "      <td>16</td>\n",
       "      <td>1.289100</td>\n",
       "      <td>-1.112990</td>\n",
       "      <td>-0.650283</td>\n",
       "      <td>0.012857</td>\n",
       "      <td>0</td>\n",
       "      <td>0</td>\n",
       "      <td>0</td>\n",
       "      <td>C</td>\n",
       "      <td>O</td>\n",
       "    </tr>\n",
       "    <tr>\n",
       "      <th>5</th>\n",
       "      <td>2</td>\n",
       "      <td>10</td>\n",
       "      <td>1.282630</td>\n",
       "      <td>0.000000</td>\n",
       "      <td>-1.281885</td>\n",
       "      <td>-0.043713</td>\n",
       "      <td>0</td>\n",
       "      <td>0</td>\n",
       "      <td>0</td>\n",
       "      <td>C</td>\n",
       "      <td>O</td>\n",
       "    </tr>\n",
       "    <tr>\n",
       "      <th>6</th>\n",
       "      <td>2</td>\n",
       "      <td>14</td>\n",
       "      <td>1.289100</td>\n",
       "      <td>-1.112990</td>\n",
       "      <td>0.650283</td>\n",
       "      <td>0.012857</td>\n",
       "      <td>0</td>\n",
       "      <td>0</td>\n",
       "      <td>0</td>\n",
       "      <td>C</td>\n",
       "      <td>O</td>\n",
       "    </tr>\n",
       "    <tr>\n",
       "      <th>7</th>\n",
       "      <td>2</td>\n",
       "      <td>17</td>\n",
       "      <td>1.289100</td>\n",
       "      <td>1.112990</td>\n",
       "      <td>0.650283</td>\n",
       "      <td>0.012857</td>\n",
       "      <td>0</td>\n",
       "      <td>0</td>\n",
       "      <td>0</td>\n",
       "      <td>C</td>\n",
       "      <td>O</td>\n",
       "    </tr>\n",
       "    <tr>\n",
       "      <th>9</th>\n",
       "      <td>3</td>\n",
       "      <td>11</td>\n",
       "      <td>1.282630</td>\n",
       "      <td>0.000000</td>\n",
       "      <td>-1.281885</td>\n",
       "      <td>0.043713</td>\n",
       "      <td>0</td>\n",
       "      <td>0</td>\n",
       "      <td>0</td>\n",
       "      <td>C</td>\n",
       "      <td>O</td>\n",
       "    </tr>\n",
       "    <tr>\n",
       "      <th>10</th>\n",
       "      <td>3</td>\n",
       "      <td>15</td>\n",
       "      <td>1.289100</td>\n",
       "      <td>-1.112990</td>\n",
       "      <td>0.650283</td>\n",
       "      <td>-0.012857</td>\n",
       "      <td>0</td>\n",
       "      <td>0</td>\n",
       "      <td>0</td>\n",
       "      <td>C</td>\n",
       "      <td>O</td>\n",
       "    </tr>\n",
       "    <tr>\n",
       "      <th>11</th>\n",
       "      <td>3</td>\n",
       "      <td>19</td>\n",
       "      <td>1.289100</td>\n",
       "      <td>1.112990</td>\n",
       "      <td>0.650283</td>\n",
       "      <td>-0.012857</td>\n",
       "      <td>0</td>\n",
       "      <td>0</td>\n",
       "      <td>0</td>\n",
       "      <td>C</td>\n",
       "      <td>O</td>\n",
       "    </tr>\n",
       "    <tr>\n",
       "      <th>13</th>\n",
       "      <td>4</td>\n",
       "      <td>12</td>\n",
       "      <td>1.282630</td>\n",
       "      <td>0.000000</td>\n",
       "      <td>1.281885</td>\n",
       "      <td>0.043713</td>\n",
       "      <td>0</td>\n",
       "      <td>0</td>\n",
       "      <td>0</td>\n",
       "      <td>C</td>\n",
       "      <td>O</td>\n",
       "    </tr>\n",
       "    <tr>\n",
       "      <th>14</th>\n",
       "      <td>4</td>\n",
       "      <td>18</td>\n",
       "      <td>1.289100</td>\n",
       "      <td>1.112990</td>\n",
       "      <td>-0.650283</td>\n",
       "      <td>-0.012857</td>\n",
       "      <td>0</td>\n",
       "      <td>0</td>\n",
       "      <td>0</td>\n",
       "      <td>C</td>\n",
       "      <td>O</td>\n",
       "    </tr>\n",
       "    <tr>\n",
       "      <th>15</th>\n",
       "      <td>4</td>\n",
       "      <td>20</td>\n",
       "      <td>1.289100</td>\n",
       "      <td>-1.112990</td>\n",
       "      <td>-0.650283</td>\n",
       "      <td>-0.012857</td>\n",
       "      <td>0</td>\n",
       "      <td>0</td>\n",
       "      <td>0</td>\n",
       "      <td>C</td>\n",
       "      <td>O</td>\n",
       "    </tr>\n",
       "  </tbody>\n",
       "</table>\n",
       "</div>"
      ],
      "text/plain": [
       "   central_atom_id  ... neighboring_atom_symbol\n",
       "1                1  ...                       O\n",
       "2                1  ...                       O\n",
       "3                1  ...                       O\n",
       "5                2  ...                       O\n",
       "6                2  ...                       O\n",
       "7                2  ...                       O\n",
       "9                3  ...                       O\n",
       "10               3  ...                       O\n",
       "11               3  ...                       O\n",
       "13               4  ...                       O\n",
       "14               4  ...                       O\n",
       "15               4  ...                       O\n",
       "\n",
       "[12 rows x 11 columns]"
      ]
     },
     "execution_count": 25,
     "metadata": {},
     "output_type": "execute_result"
    }
   ],
   "source": [
    "df_nnlist_C_O = df_nnlist[df_nnlist.apply(lambda row: (row['central_atom_symbol'] == 'C') and (row['neighboring_atom_symbol'] == 'O'), axis=1)]\n",
    "df_nnlist_C_O"
   ]
  },
  {
   "cell_type": "markdown",
   "id": "be4d9182-5e2e-4fc5-958e-e6a2c65eeea6",
   "metadata": {},
   "source": [
    "### df_nnlist_C_Oから，rel_distanceカラムを抽出し，listに格納．"
   ]
  },
  {
   "cell_type": "code",
   "execution_count": 83,
   "id": "72aecbdb-1412-4655-84cf-365743a9f506",
   "metadata": {
    "tags": []
   },
   "outputs": [
    {
     "data": {
      "text/plain": [
       "1    1.282630\n",
       "2    1.289100\n",
       "3    1.289100\n",
       "5    1.282630\n",
       "6    1.289100\n",
       "7    1.289100\n",
       "9    1.282630\n",
       "10   1.289100\n",
       "11   1.289100\n",
       "13   1.282630\n",
       "14   1.289100\n",
       "15   1.289100\n",
       "Name: rel_distance, dtype: float64"
      ]
     },
     "execution_count": 83,
     "metadata": {},
     "output_type": "execute_result"
    }
   ],
   "source": [
    "df_nnlist_C_O['rel_distance']"
   ]
  },
  {
   "cell_type": "code",
   "execution_count": 64,
   "id": "8df319bd-71dd-4482-9abb-3f7d6debb6e2",
   "metadata": {
    "tags": []
   },
   "outputs": [],
   "source": [
    "CO_bond_dist_list = df_nnlist_C_O['rel_distance'].tolist()"
   ]
  },
  {
   "cell_type": "code",
   "execution_count": 65,
   "id": "1222aa8b-1fef-4aea-852d-6c05e77ee808",
   "metadata": {
    "tags": []
   },
   "outputs": [
    {
     "data": {
      "text/plain": [
       "[1.28263,\n",
       " 1.2891,\n",
       " 1.2891,\n",
       " 1.28263,\n",
       " 1.2891,\n",
       " 1.2891,\n",
       " 1.28263,\n",
       " 1.2891,\n",
       " 1.2891,\n",
       " 1.28263,\n",
       " 1.2891,\n",
       " 1.2891]"
      ]
     },
     "execution_count": 65,
     "metadata": {},
     "output_type": "execute_result"
    }
   ],
   "source": [
    "CO_bond_dist_list"
   ]
  },
  {
   "cell_type": "markdown",
   "id": "ca418a65-e8d9-4f00-8ed1-91ef0918484f",
   "metadata": {},
   "source": [
    "### ヒストグラムを描く"
   ]
  },
  {
   "cell_type": "code",
   "execution_count": 67,
   "id": "dd0d50d5-4bb9-45a7-bae1-9018259d367c",
   "metadata": {
    "tags": []
   },
   "outputs": [],
   "source": [
    "list_2 = CO_bond_dist_list"
   ]
  },
  {
   "cell_type": "code",
   "execution_count": 68,
   "id": "9c4a8fea-6720-492e-b30c-88380085e334",
   "metadata": {
    "tags": []
   },
   "outputs": [],
   "source": [
    "import numpy as np"
   ]
  },
  {
   "cell_type": "code",
   "execution_count": 71,
   "id": "e4a83e98-a58e-408b-bf4c-c554519eb398",
   "metadata": {
    "tags": []
   },
   "outputs": [],
   "source": [
    "a = np.array(CO_bond_dist_list)"
   ]
  },
  {
   "cell_type": "code",
   "execution_count": 75,
   "id": "555d8b5a-571d-4e6a-b0c7-26ac8548a10c",
   "metadata": {
    "tags": []
   },
   "outputs": [],
   "source": [
    "b = np.append(a, list_2)"
   ]
  },
  {
   "cell_type": "code",
   "execution_count": 78,
   "id": "a5752c39-b3d2-4c35-a622-3aa873e8baf3",
   "metadata": {
    "tags": []
   },
   "outputs": [],
   "source": [
    "import seaborn as sns"
   ]
  },
  {
   "cell_type": "code",
   "execution_count": 79,
   "id": "4a37377a-05a3-4ba4-955c-d8f1ae98fc42",
   "metadata": {
    "tags": []
   },
   "outputs": [
    {
     "data": {
      "text/plain": [
       "<Axes: ylabel='Count'>"
      ]
     },
     "execution_count": 79,
     "metadata": {},
     "output_type": "execute_result"
    },
    {
     "data": {
      "image/png": "[encoded data removed]",
      "text/plain": [
       "<Figure size 640x480 with 1 Axes>"
      ]
     },
     "metadata": {},
     "output_type": "display_data"
    }
   ],
   "source": [
    "sns.histplot(b)"
   ]
  },
  {
   "cell_type": "markdown",
   "id": "ec107e6c-b2a1-45e3-b53a-fb746d9ca9d3",
   "metadata": {},
   "source": [
    "#### listとndarrayの容量比較"
   ]
  },
  {
   "cell_type": "code",
   "execution_count": 86,
   "id": "f4d6e895-be23-4748-8491-3452813ca675",
   "metadata": {
    "tags": []
   },
   "outputs": [],
   "source": [
    "import sys"
   ]
  },
  {
   "cell_type": "code",
   "execution_count": 84,
   "id": "eef0757a-27ef-4720-b279-1365f15a31ca",
   "metadata": {
    "tags": []
   },
   "outputs": [
    {
     "data": {
      "text/plain": [
       "array([1.28263, 1.2891 , 1.2891 , 1.28263, 1.2891 , 1.2891 , 1.28263,\n",
       "       1.2891 , 1.2891 , 1.28263, 1.2891 , 1.2891 , 1.28263, 1.2891 ,\n",
       "       1.2891 , 1.28263, 1.2891 , 1.2891 , 1.28263, 1.2891 , 1.2891 ,\n",
       "       1.28263, 1.2891 , 1.2891 ])"
      ]
     },
     "execution_count": 84,
     "metadata": {},
     "output_type": "execute_result"
    }
   ],
   "source": []
  },
  {
   "cell_type": "code",
   "execution_count": 89,
   "id": "41da9ffe-d8cc-4ee1-9747-30d8bdde39f1",
   "metadata": {
    "tags": []
   },
   "outputs": [
    {
     "data": {
      "text/plain": [
       "304"
      ]
     },
     "execution_count": 89,
     "metadata": {},
     "output_type": "execute_result"
    }
   ],
   "source": [
    "# ndarray\n",
    "sys.getsizeof(b)"
   ]
  },
  {
   "cell_type": "code",
   "execution_count": 91,
   "id": "d5fc8070-90cf-47f6-9dfa-d9bb2a21b578",
   "metadata": {
    "tags": []
   },
   "outputs": [
    {
     "data": {
      "text/plain": [
       "248"
      ]
     },
     "execution_count": 91,
     "metadata": {},
     "output_type": "execute_result"
    }
   ],
   "source": [
    "# list\n",
    "sys.getsizeof(b.tolist())"
   ]
  },
  {
   "cell_type": "markdown",
   "id": "983f0167-cb8e-404b-81c8-7721cf79054d",
   "metadata": {},
   "source": [
    "### listの方がndarrayよりメモリ使用量が小さいことが分かった．"
   ]
  },
  {
   "cell_type": "code",
   "execution_count": 102,
   "id": "d5a49dfc-b1ec-46d5-a1f4-274952c3a6f5",
   "metadata": {
    "tags": []
   },
   "outputs": [
    {
     "name": "stdout",
     "output_type": "stream",
     "text": [
      "/mnt/ssd_elecom_black_c2c_480G/scripts/get_CO_bond_dist\n"
     ]
    }
   ],
   "source": [
    "!pwd"
   ]
  }
 ],
 "metadata": {
  "kernelspec": {
   "display_name": "Python 3 (ipykernel)",
   "language": "python",
   "name": "python3"
  },
  "language_info": {
   "codemirror_mode": {
    "name": "ipython",
    "version": 3
   },
   "file_extension": ".py",
   "mimetype": "text/x-python",
   "name": "python",
   "nbconvert_exporter": "python",
   "pygments_lexer": "ipython3",
   "version": "3.10.12"
  }
 },
 "nbformat": 4,
 "nbformat_minor": 5
}
