{
 "cells": [
  {
   "cell_type": "code",
   "execution_count": 1,
   "id": "8cf70f04-a084-4308-9346-f3fcf84ad74c",
   "metadata": {
    "tags": []
   },
   "outputs": [],
   "source": [
    "import itertools\n",
    "from multiprocessing import Pool, cpu_count\n",
    "\n",
    "import numpy as np\n",
    "import seaborn as sns\n",
    "from tqdm import tqdm\n",
    "\n",
    "from package_file_conversion.nnlist2df import nnlist2df"
   ]
  },
  {
   "cell_type": "code",
   "execution_count": 2,
   "id": "28f41626-a437-4ceb-9759-be04cfd2b094",
   "metadata": {
    "tags": []
   },
   "outputs": [],
   "source": [
    "def flatten_func(list_2dim):\n",
    "    return list(itertools.chain.from_iterable(list_2dim))"
   ]
  },
  {
   "cell_type": "code",
   "execution_count": 3,
   "id": "85174c6f-6489-41c5-8230-583f8ff97a13",
   "metadata": {
    "tags": []
   },
   "outputs": [],
   "source": [
    "def get_CO_bond_dist_list(nnlist_path='sample_test_files/POSCAR.nnlist'):\n",
    "    df_nnlist = nnlist2df(nnlist_path)\n",
    "    df_nnlist_C_O = df_nnlist[df_nnlist.apply(lambda row: (row['central_atom_symbol'] == 'N') and (row['neighboring_atom_symbol'] == 'H'), axis=1)]\n",
    "    CO_bond_dist_list = df_nnlist_C_O['rel_distance'].tolist()\n",
    "    return CO_bond_dist_list"
   ]
  },
  {
   "cell_type": "code",
   "execution_count": 5,
   "id": "32c7911b-54c9-4db6-b1bc-72249b7fd727",
   "metadata": {
    "tags": []
   },
   "outputs": [],
   "source": [
    "# 元素種C, Oを含むPOSCARファイルパスリストをload\n",
    "C_O_existed_poscar_folder_path_list = np.load('../get_some_speceis_existed_poscar_path_list/N_H_existed_poscar_folder_path_list.npy', allow_pickle=True)"
   ]
  },
  {
   "cell_type": "code",
   "execution_count": 6,
   "id": "439efcc5-b4aa-4113-81f1-348bfb005025",
   "metadata": {
    "tags": []
   },
   "outputs": [],
   "source": [
    "C_O_existed_nnlist_5_path_list = [str(folder_p) + '/nnlist_5/POSCAR.nnlist' for folder_p in C_O_existed_poscar_folder_path_list]"
   ]
  },
  {
   "cell_type": "code",
   "execution_count": 7,
   "id": "cfe9b68b-cc01-45a4-a1c1-295499db876e",
   "metadata": {
    "tags": []
   },
   "outputs": [
    {
     "name": "stderr",
     "output_type": "stream",
     "text": [
      "  5%|█████▎                                                                                                         | 10000/210889 [03:43<1:14:53, 44.71it/s]\n"
     ]
    }
   ],
   "source": [
    "# 並列化\n",
    "try:\n",
    "    p = Pool(cpu_count() - 1)\n",
    "    CO_bond_dist_2d_list = list(tqdm(p.imap(get_CO_bond_dist_list, C_O_existed_nnlist_5_path_list[0:10000]), total=len(C_O_existed_nnlist_5_path_list)))\n",
    "    # flatten\n",
    "    CO_bond_dist_1d_list = flatten_func(CO_bond_dist_2d_list)\n",
    "finally:\n",
    "    p.close()\n",
    "    p.join()"
   ]
  },
  {
   "cell_type": "code",
   "execution_count": 8,
   "id": "5f1f2e78-734a-4169-93f3-5862e96eabd7",
   "metadata": {
    "tags": []
   },
   "outputs": [],
   "source": [
    "np.save('NH_bond_dist_1d_list.npy', np.array(CO_bond_dist_1d_list))"
   ]
  },
  {
   "cell_type": "markdown",
   "id": "cff45114-3e22-402d-bfcb-7f10ac67b7a8",
   "metadata": {},
   "source": [
    "#### メモ：ヒストグラムの描画は、別ファイルplot_CO_bond_dist_list.ipynbで行う"
   ]
  }
 ],
 "metadata": {
  "kernelspec": {
   "display_name": "Python 3 (ipykernel)",
   "language": "python",
   "name": "python3"
  },
  "language_info": {
   "codemirror_mode": {
    "name": "ipython",
    "version": 3
   },
   "file_extension": ".py",
   "mimetype": "text/x-python",
   "name": "python",
   "nbconvert_exporter": "python",
   "pygments_lexer": "ipython3",
   "version": "3.10.12"
  }
 },
 "nbformat": 4,
 "nbformat_minor": 5
}
