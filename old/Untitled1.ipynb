{
 "cells": [
  {
   "cell_type": "code",
   "execution_count": 11,
   "id": "a668c997-c854-4967-8cb1-38e88d535174",
   "metadata": {
    "tags": []
   },
   "outputs": [],
   "source": [
    "import argparse\n",
    "import itertools\n",
    "from multiprocessing import Pool, cpu_count\n",
    "\n",
    "import numpy as np\n",
    "from tqdm import tqdm\n",
    "\n",
    "from package_file_conversion.nnlist2df import nnlist2df\n",
    "\n",
    "\n",
    "def flatten_func(list_2dim):\n",
    "    return list(itertools.chain.from_iterable(list_2dim))\n",
    "\n",
    "\n",
    "def get_CO_bond_dist_list(nnlist_path='sample_test_files/POSCAR.nnlist'):\n",
    "    df_nnlist = nnlist2df(nnlist_path)\n",
    "    df_nnlist_C_O = df_nnlist[df_nnlist.apply(lambda row: (row['central_atom_symbol'] == 'P') and (row['neighboring_atom_symbol'] == 'H'), axis=1)]\n",
    "    CO_bond_dist_list = df_nnlist_C_O['rel_distance'].tolist()\n",
    "    return CO_bond_dist_list"
   ]
  },
  {
   "cell_type": "code",
   "execution_count": 12,
   "id": "f0c96a72-bb70-40a9-9ca9-165340941eb0",
   "metadata": {
    "tags": []
   },
   "outputs": [],
   "source": [
    "# # コマンドライン引数を受け取る\n",
    "# parser = argparse.ArgumentParser(description='This script takes two arguments: arg1, arg2 and arg3.',\n",
    "#                                  usage='%(prog)s <arg1> <arg2> <arg3> \\\n",
    "#                                  \\nexample: python3 %(prog)s P H P_H_existed_poscar_folder_path_list.npy')\n",
    "# parser.add_argument('arg1', help='central_atom_symbol')\n",
    "# parser.add_argument('arg2', help='neighboring_atom_symbol')\n",
    "# parser.add_argument('arg3', help='npy_file_name')\n",
    "# args = parser.parse_args()"
   ]
  },
  {
   "cell_type": "code",
   "execution_count": 13,
   "id": "4e3e577f-90da-48d5-8468-22f8be7fb862",
   "metadata": {
    "tags": []
   },
   "outputs": [],
   "source": [
    "# 元素種C, Oを含むPOSCARファイルパスリストをload\n",
    "C_O_existed_poscar_folder_path_list = np.load(f'../get_some_speceis_existed_poscar_path_list/P_H_existed_poscar_folder_path_list.npy', allow_pickle=True)\n",
    "# CO結合間距離を抽出したいnnlist_5/POSCAR.nnlistのパスリストを作成\n",
    "C_O_existed_nnlist_5_path_list = [str(folder_p) + '/nnlist_5/POSCAR.nnlist' for folder_p in C_O_existed_poscar_folder_path_list]\n"
   ]
  },
  {
   "cell_type": "code",
   "execution_count": 16,
   "id": "15cde863-ae76-40ee-a254-43280b19b8c1",
   "metadata": {
    "tags": []
   },
   "outputs": [
    {
     "data": {
      "text/plain": [
       "array([1.970836, 4.263957, 2.966443, ..., 2.628522, 3.827389, 2.865665])"
      ]
     },
     "execution_count": 16,
     "metadata": {},
     "output_type": "execute_result"
    }
   ],
   "source": [
    "np.load('PH_dist_1d_list.npy', allow_pickle=True)"
   ]
  },
  {
   "cell_type": "code",
   "execution_count": null,
   "id": "bffd3e45-d7fe-4493-8318-27a0c53cdc1a",
   "metadata": {},
   "outputs": [],
   "source": [
    "# 並列化して処理\n",
    "try:\n",
    "    p = Pool(cpu_count() - 1)\n",
    "    CO_bond_dist_2d_list = list(tqdm(p.imap(get_CO_bond_dist_list, C_O_existed_nnlist_5_path_list[0:100]), total=len(C_O_existed_nnlist_5_path_list)))\n",
    "    # flatten\n",
    "    CO_bond_dist_1d_list = flatten_func(CO_bond_dist_2d_list)\n",
    "finally:\n",
    "    p.close()\n",
    "    p.join()\n",
    "\n",
    "# 抽出したCO結合間距離の1Dリストをを.npy形式で保存\n",
    "np.save(f'{args.arg1}{args.arg2}_dist_1d_list.npy', np.array(CO_bond_dist_1d_list))\n"
   ]
  }
 ],
 "metadata": {
  "kernelspec": {
   "display_name": "Python 3 (ipykernel)",
   "language": "python",
   "name": "python3"
  },
  "language_info": {
   "codemirror_mode": {
    "name": "ipython",
    "version": 3
   },
   "file_extension": ".py",
   "mimetype": "text/x-python",
   "name": "python",
   "nbconvert_exporter": "python",
   "pygments_lexer": "ipython3",
   "version": "3.10.12"
  }
 },
 "nbformat": 4,
 "nbformat_minor": 5
}
