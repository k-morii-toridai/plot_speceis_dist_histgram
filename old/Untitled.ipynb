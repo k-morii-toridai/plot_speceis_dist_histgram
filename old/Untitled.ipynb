{
 "cells": [
  {
   "cell_type": "code",
   "execution_count": 1,
   "id": "be0e826a-af76-46ab-93b0-dc69c02efee6",
   "metadata": {
    "tags": []
   },
   "outputs": [],
   "source": [
    "import os\n",
    "import sys\n",
    "import argparse\n",
    "\n",
    "import numpy as np\n",
    "import seaborn as sns\n",
    "import matplotlib.pyplot as plt\n",
    "\n",
    "\n",
    "elements = {\n",
    "    \"H\": \"Hydrogen\",\n",
    "    \"Li\": \"Lithium\",\n",
    "    \"Be\": \"Beryllium\",\n",
    "    \"B\": \"Boron\",\n",
    "    \"C\": \"Carbon\",\n",
    "    \"N\": \"Nitrogen\",\n",
    "    \"O\": \"Oxygen\",\n",
    "    \"F\": \"Fluorine\",\n",
    "    \"Na\": \"Sodium\",\n",
    "    \"Mg\": \"Magnesium\",\n",
    "    \"Al\": \"Aluminium\",\n",
    "    \"Si\": \"Silicon\",\n",
    "    \"P\": \"Phosphorus\",\n",
    "    \"S\": \"Sulfur\",\n",
    "    \"Cl\": \"Chlorine\",\n",
    "    \"K\": \"Potassium\",\n",
    "    \"Ca\": \"Calcium\",\n",
    "    \"Sc\": \"Scandium\",\n",
    "    \"Ti\": \"Titanium\",\n",
    "    \"V\": \"Vanadium\",\n",
    "    \"Cr\": \"Chromium\",\n",
    "    \"Mn\": \"Manganese\",\n",
    "    \"Fe\": \"Iron\",\n",
    "    \"Co\": \"Cobalt\",\n",
    "    \"Ni\": \"Nickel\",\n",
    "    \"Cu\": \"Copper\",\n",
    "    \"Zn\": \"Zinc\",\n",
    "    \"Ga\": \"Gallium\",\n",
    "    \"Ge\": \"Germanium\",\n",
    "    \"As\": \"Arsenic\",\n",
    "    \"Se\": \"Selenium\",\n",
    "    \"Br\": \"Bromine\",\n",
    "    \"Rb\": \"Rubidium\",\n",
    "    \"Sr\": \"Strontium\",\n",
    "    \"Y\": \"Yttrium\",\n",
    "    \"Zr\": \"Zirconium\",\n",
    "    \"Nb\": \"Niobium\",\n",
    "    \"Mo\": \"Molybdenum\",\n",
    "    \"Tc\": \"Technetium\",\n",
    "    \"Ru\": \"Ruthenium\",\n",
    "    \"Rh\": \"Rhodium\",\n",
    "    \"Pd\": \"Palladium\",\n",
    "    \"Ag\": \"Silver\",\n",
    "    \"Cd\": \"Cadmium\",\n",
    "    \"In\": \"Indium\",\n",
    "    \"Sn\": \"Tin\",\n",
    "    \"Sb\": \"Antimony\",\n",
    "    \"Te\": \"Tellurium\",\n",
    "    \"I\": \"Iodine\",\n",
    "}\n"
   ]
  },
  {
   "cell_type": "code",
   "execution_count": 10,
   "id": "7c71e858-a9b4-4055-bac6-c8c4d45125e9",
   "metadata": {
    "tags": []
   },
   "outputs": [],
   "source": [
    "\n",
    "def mk_fig_histgram_under200pm(array, figsize=6):\n",
    "    \"\"\"\n",
    "    This func() make a histgram under 1.1Å.\n",
    "\n",
    "    Parameters\n",
    "    -----------\n",
    "    array: CO_bond_dist_1d_list_under2\n",
    "    figsize: inch\n",
    "\n",
    "    Usage\n",
    "    ------\n",
    "    mk_fig_histgram_under200pm(array=CO_bond_dist_1d_list_under2, figsize=5)\n",
    "\n",
    "    Returns\n",
    "    --------\n",
    "    Figure, .eps, .pdf, .png(:dpi=100, 200, 300)\n",
    "    \"\"\"\n",
    "\n",
    "    fig, axes = plt.subplots(nrows=1, ncols=1, figsize=(figsize, figsize))\n",
    "    sns.histplot(array,\n",
    "                 ax=axes,\n",
    "                 label=f'{elements[central_atom_symbol]}-{elements[neighboring_atom_symbol]} distance',\n",
    "                 color='lightgray',\n",
    "                 edgecolor=None,)\n",
    "    # タイトルの設定\n",
    "    if figsize == 5:\n",
    "        fontsize = 10\n",
    "    if figsize == 6:\n",
    "        fontsize = 13\n",
    "    axes.set_title(f'Histgram of distances between {elements[central_atom_symbol]} and {elements[neighboring_atom_symbol]} under 1.1Å',\n",
    "                   y=1.05,\n",
    "                   fontsize=fontsize,)\n",
    "    # 軸ラベルの設定\n",
    "    axes.set_xlabel('Distance(Å)', fontsize=15)\n",
    "    axes.set_ylabel('Count', fontsize=15)\n",
    "    axes.xaxis.set_label_coords(0.5, -0.08)  # x軸ラベルの位置を調整\n",
    "    axes.yaxis.set_label_coords(-0.11, 0.5)  # y軸ラベルの位置を調整\n",
    "    # x軸の範囲設定\n",
    "    axes.set_xlim(left=0.7, right=1.1)\n",
    "    # y軸を指数表示\n",
    "    axes.ticklabel_format(style=\"sci\",  axis=\"y\", scilimits=(0, 0))\n",
    "    # 凡例の設定\n",
    "    axes.legend(loc='upper left', bbox_to_anchor=(0.01, 0.99), fontsize=fontsize-3)  # 凡例を表示\n",
    "    # save\n",
    "    f_name = f'figure/{central_atom_symbol}{neighboring_atom_symbol}/xlim_under200pm/size_{figsize}_{figsize}/'\n",
    "    None if os.path.exists(f_name) else os.makedirs(f_name)\n",
    "    # .png形式で保存（dpi3パターン）\n",
    "    fig.savefig(f'{f_name}/Histgram_of_distances_between_{elements[central_atom_symbol]}_and_{elements[neighboring_atom_symbol]}_under200pm_300dpi_s{figsize}.png', dpi=300)\n",
    "    fig.savefig(f'{f_name}/Histgram_of_distances_between_carbon_and_oxygen_under200pm_200dpi_s{figsize}.png', dpi=200)\n",
    "    fig.savefig(f'{f_name}/Histgram_of_distances_between_carbon_and_oxygen_under200pm_100dpi_s{figsize}.png', dpi=100)\n",
    "    # .pdf形式で保存\n",
    "    fig.savefig(f'{f_name}/Histgram_of_distances_between_carbon_and_oxygen_under200pm_s{figsize}.pdf')\n",
    "    # .eps形式で保存\n",
    "    fig.savefig(f'{f_name}/Histgram_of_distances_between_carbon_and_oxygen_under200pm_s{figsize}.eps')\n",
    "    # show\n",
    "    # plt.show()\n",
    "\n",
    "\n"
   ]
  },
  {
   "cell_type": "code",
   "execution_count": 17,
   "id": "e985427e-f14c-40a2-9774-af435d7158e4",
   "metadata": {
    "tags": []
   },
   "outputs": [],
   "source": [
    "npy_file_name = 'PH_dist_1d_list.npy'\n",
    "figure = 5"
   ]
  },
  {
   "cell_type": "code",
   "execution_count": 18,
   "id": "4acc1fb7-2528-43e3-9da9-86d6d17ff59d",
   "metadata": {
    "tags": []
   },
   "outputs": [],
   "source": [
    "# make a histgram of CO-bond distances under 5Å\n",
    "CO_bond_dist_1d_list_loaded = np.load(npy_file_name, allow_pickle=True)\n",
    "# mk_fig_histgram(array=CO_bond_dist_1d_list_loaded, figsize=figsize)\n",
    "# print(f\"A histgram of CO-bond distances under 5Å was made \\n\\\n",
    "# and saved at figure/under500pm/size_{figsize}_{figsize}/\")\n"
   ]
  },
  {
   "cell_type": "code",
   "execution_count": 19,
   "id": "0c90f159-3e69-413f-b9ba-263c69fd9849",
   "metadata": {
    "tags": []
   },
   "outputs": [
    {
     "data": {
      "text/plain": [
       "array([], dtype=float64)"
      ]
     },
     "execution_count": 19,
     "metadata": {},
     "output_type": "execute_result"
    }
   ],
   "source": [
    "CO_bond_dist_1d_list_loaded"
   ]
  },
  {
   "cell_type": "code",
   "execution_count": null,
   "id": "0dcae1da-9c98-4f8a-835b-cc5e4e283ad8",
   "metadata": {},
   "outputs": [],
   "source": [
    "# make a histgram of CO-bond distances under 2Å\n",
    "CO_bond_dist_1d_list_under2 = CO_bond_dist_1d_list_loaded[CO_bond_dist_1d_list_loaded <= 1.1]\n",
    "mk_fig_histgram_under200pm(array=CO_bond_dist_1d_list_under2, figsize=figsize)\n",
    "print(f\"A histgram of CO-bond distances under 3Å was made \\n\\\n",
    "and saved at figure/under200pm/size_{figsize}_{figsize}/\")\n"
   ]
  },
  {
   "cell_type": "code",
   "execution_count": null,
   "id": "5407aa5e-1f98-4903-b10a-89e7a2f3360b",
   "metadata": {},
   "outputs": [],
   "source": []
  }
 ],
 "metadata": {
  "kernelspec": {
   "display_name": "Python 3 (ipykernel)",
   "language": "python",
   "name": "python3"
  },
  "language_info": {
   "codemirror_mode": {
    "name": "ipython",
    "version": 3
   },
   "file_extension": ".py",
   "mimetype": "text/x-python",
   "name": "python",
   "nbconvert_exporter": "python",
   "pygments_lexer": "ipython3",
   "version": "3.10.12"
  }
 },
 "nbformat": 4,
 "nbformat_minor": 5
}
